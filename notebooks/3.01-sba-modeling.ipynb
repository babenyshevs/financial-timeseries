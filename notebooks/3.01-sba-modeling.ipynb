{
 "cells": [
  {
   "cell_type": "code",
   "execution_count": 1,
   "metadata": {},
   "outputs": [],
   "source": [
    "%load_ext autoreload\n",
    "%autoreload 2"
   ]
  },
  {
   "cell_type": "markdown",
   "metadata": {
    "vscode": {
     "languageId": "plaintext"
    }
   },
   "source": [
    "# IMPORTS"
   ]
  },
  {
   "cell_type": "code",
   "execution_count": 2,
   "metadata": {},
   "outputs": [],
   "source": [
    "# data\n",
    "import numpy as np\n",
    "import pandas as pd\n",
    "\n",
    "# graphics\n",
    "import plotly.express as px\n",
    "import matplotlib.pyplot as plt\n",
    "\n",
    "# stats\n",
    "from sktime.split import temporal_train_test_split\n",
    "from sklearn.preprocessing import Normalizer\n",
    "\n",
    "# src\n",
    "from src.utilities import from_pickle, to_pickle\n",
    "from src.data.transformations import split_train_test_ts"
   ]
  },
  {
   "cell_type": "markdown",
   "metadata": {},
   "source": [
    "# PATHS & NAMES"
   ]
  },
  {
   "cell_type": "code",
   "execution_count": 3,
   "metadata": {},
   "outputs": [],
   "source": [
    "MODELS_FOLDER = \"../src/models\"\n",
    "REPORT_FOLDER = \"../reports\"\n",
    "INTERIM_FOLDER = \"../data/interim\"\n",
    "\n",
    "FITTED_NORMALIZER = \"normalizer.pkl\"\n",
    "DEVSET_FILENAME = \"devset.pkl\"\n",
    "TESTSET_FILENAME = \"testset.pkl\"\n",
    "\n",
    "FITTED_NORMALIZER_FILEPATH = f\"{MODELS_FOLDER}/{FITTED_NORMALIZER}\"\n",
    "DEVSET_FILEPATH = f\"{INTERIM_FOLDER}/{DEVSET_FILENAME}\"\n",
    "TESTSET_FILEPATH = f\"{INTERIM_FOLDER}/{TESTSET_FILENAME}\"\n",
    "\n",
    "TARGET = \"y\"\n",
    "LAG_TARGET = \"x_y_lagged\"\n",
    "\n",
    "FIG_WIDTH = 15\n",
    "FIG_HEIGHT = 3"
   ]
  },
  {
   "cell_type": "markdown",
   "metadata": {},
   "source": [
    "# DATA"
   ]
  },
  {
   "cell_type": "code",
   "execution_count": 4,
   "metadata": {},
   "outputs": [],
   "source": [
    "devset = from_pickle(DEVSET_FILEPATH)\n",
    "testset = from_pickle(TESTSET_FILEPATH)"
   ]
  },
  {
   "cell_type": "markdown",
   "metadata": {},
   "source": [
    "# MODELS"
   ]
  },
  {
   "cell_type": "markdown",
   "metadata": {
    "vscode": {
     "languageId": "plaintext"
    }
   },
   "source": [
    "## SARIMA"
   ]
  },
  {
   "cell_type": "markdown",
   "metadata": {
    "vscode": {
     "languageId": "plaintext"
    }
   },
   "source": [
    "## FPROPHET"
   ]
  },
  {
   "cell_type": "markdown",
   "metadata": {
    "vscode": {
     "languageId": "plaintext"
    }
   },
   "source": [
    "## RNN"
   ]
  },
  {
   "cell_type": "markdown",
   "metadata": {
    "vscode": {
     "languageId": "plaintext"
    }
   },
   "source": [
    "## LSTM"
   ]
  },
  {
   "cell_type": "markdown",
   "metadata": {
    "vscode": {
     "languageId": "plaintext"
    }
   },
   "source": [
    "## GRU"
   ]
  },
  {
   "cell_type": "markdown",
   "metadata": {
    "vscode": {
     "languageId": "plaintext"
    }
   },
   "source": [
    "## Encoder-decoder"
   ]
  }
 ],
 "metadata": {
  "kernelspec": {
   "display_name": ".venv",
   "language": "python",
   "name": "python3"
  },
  "language_info": {
   "codemirror_mode": {
    "name": "ipython",
    "version": 3
   },
   "file_extension": ".py",
   "mimetype": "text/x-python",
   "name": "python",
   "nbconvert_exporter": "python",
   "pygments_lexer": "ipython3",
   "version": "3.10.9"
  }
 },
 "nbformat": 4,
 "nbformat_minor": 2
}
