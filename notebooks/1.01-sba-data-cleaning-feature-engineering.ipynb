{
 "cells": [
  {
   "cell_type": "markdown",
   "metadata": {},
   "source": [
    "# IMPORTS"
   ]
  },
  {
   "cell_type": "code",
   "execution_count": null,
   "metadata": {},
   "outputs": [],
   "source": [
    "%load_ext autoreload\n",
    "%autoreload 2"
   ]
  },
  {
   "cell_type": "code",
   "execution_count": 2,
   "metadata": {},
   "outputs": [],
   "source": [
    "# data\n",
    "import numpy as np\n",
    "import pandas as pd\n",
    "\n",
    "# graphics\n",
    "import plotly.express as px\n",
    "import matplotlib.pyplot as plt\n",
    "\n",
    "# stats\n",
    "from pandas.plotting import autocorrelation_plot # test for seasonality\n",
    "from pandas.plotting import lag_plot # test for autocorrelation\n",
    "from statsmodels.tsa.seasonal import seasonal_decompose\n",
    "from statsmodels.tsa.stattools import acf, pacf\n",
    "from statsmodels.tsa.stattools import grangercausalitytests\n",
    "from statsmodels.graphics.tsaplots import plot_acf, plot_pacf\n",
    "from scipy import signal\n",
    "\n",
    "# src\n",
    "from src.utilities import from_pickle"
   ]
  },
  {
   "cell_type": "markdown",
   "metadata": {},
   "source": [
    "# PATHS & NAMES"
   ]
  },
  {
   "cell_type": "code",
   "execution_count": 3,
   "metadata": {},
   "outputs": [],
   "source": [
    "RAW_FILENAME = \"dataset.parquet\"\n",
    "RAWFILE_FOLDER = \"../data/raw\"\n",
    "RAW_FILEPATH = f\"{RAWFILE_FOLDER}/{RAW_FILENAME}\"\n",
    "\n",
    "INTERIM_FILENAME = \"transformed.pkl\"\n",
    "INTERIM_FOLDER = \"../data/interim\"\n",
    "INTERIM_FILEPATH = f\"{INTERIM_FOLDER}/{INTERIM_FILENAME}\"\n",
    "\n",
    "REPORT_FOLDER = \"../reports\"\n",
    "\n",
    "TARGET = \"y\"\n",
    "LAG_TARGET = \"x_y_lagged\"\n",
    "\n",
    "FIG_WIDTH = 15\n",
    "FIG_HEIGHT = 3"
   ]
  },
  {
   "cell_type": "markdown",
   "metadata": {},
   "source": [
    "# DATA"
   ]
  },
  {
   "cell_type": "code",
   "execution_count": 4,
   "metadata": {},
   "outputs": [],
   "source": [
    "df = pd.read_parquet(RAW_FILEPATH, engine='pyarrow')"
   ]
  },
  {
   "cell_type": "code",
   "execution_count": 5,
   "metadata": {},
   "outputs": [
    {
     "name": "stdout",
     "output_type": "stream",
     "text": [
      "<class 'pandas.core.frame.DataFrame'>\n",
      "DatetimeIndex: 6048 entries, 2023-01-16 01:00:00+01:00 to 2023-09-25 00:00:00+02:00\n",
      "Data columns (total 34 columns):\n",
      " #   Column      Non-Null Count  Dtype  \n",
      "---  ------      --------------  -----  \n",
      " 0   x01         6047 non-null   float64\n",
      " 1   x02         6047 non-null   float64\n",
      " 2   x03         6047 non-null   float64\n",
      " 3   x04         6047 non-null   float64\n",
      " 4   x05         6047 non-null   float64\n",
      " 5   x06         6047 non-null   float64\n",
      " 6   x07         6047 non-null   float64\n",
      " 7   x08         6047 non-null   float64\n",
      " 8   x09         6047 non-null   float64\n",
      " 9   x10         6047 non-null   float64\n",
      " 10  x11         6047 non-null   float64\n",
      " 11  x12         6047 non-null   float64\n",
      " 12  x13         6047 non-null   float64\n",
      " 13  x14         6047 non-null   float64\n",
      " 14  x15         6047 non-null   float64\n",
      " 15  x16         6047 non-null   float64\n",
      " 16  x17         6047 non-null   float64\n",
      " 17  x18         6047 non-null   float64\n",
      " 18  x19         6047 non-null   float64\n",
      " 19  x20         6047 non-null   float64\n",
      " 20  x21         6047 non-null   float64\n",
      " 21  x22         6047 non-null   float64\n",
      " 22  x23         6047 non-null   float64\n",
      " 23  x24         6047 non-null   float64\n",
      " 24  x25         5950 non-null   float64\n",
      " 25  x26         5950 non-null   float64\n",
      " 26  x27         5950 non-null   float64\n",
      " 27  x28         5950 non-null   float64\n",
      " 28  x29         6015 non-null   float64\n",
      " 29  x30         6020 non-null   float64\n",
      " 30  x_y_lagged  6047 non-null   float64\n",
      " 31  x_z_lagged  6024 non-null   float64\n",
      " 32  y           6047 non-null   float64\n",
      " 33  z           6024 non-null   float64\n",
      "dtypes: float64(34)\n",
      "memory usage: 1.6 MB\n"
     ]
    }
   ],
   "source": [
    "df.info()"
   ]
  },
  {
   "cell_type": "markdown",
   "metadata": {},
   "source": [
    "# SPLIT\n",
    "\n",
    "As imputation strategy as well as other postprocessing a future engineering shall not leak to the test data, split has to be done 1st.\n",
    "\n",
    "Because the data represent time series, the split shall take into account time aspect as well."
   ]
  },
  {
   "cell_type": "code",
   "execution_count": null,
   "metadata": {},
   "outputs": [],
   "source": []
  },
  {
   "cell_type": "code",
   "execution_count": null,
   "metadata": {},
   "outputs": [],
   "source": []
  }
 ],
 "metadata": {
  "kernelspec": {
   "display_name": ".venv",
   "language": "python",
   "name": "python3"
  },
  "language_info": {
   "codemirror_mode": {
    "name": "ipython",
    "version": 3
   },
   "file_extension": ".py",
   "mimetype": "text/x-python",
   "name": "python",
   "nbconvert_exporter": "python",
   "pygments_lexer": "ipython3",
   "version": "3.10.9"
  }
 },
 "nbformat": 4,
 "nbformat_minor": 2
}
