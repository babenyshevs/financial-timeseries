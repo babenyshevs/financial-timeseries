{
 "cells": [
  {
   "cell_type": "markdown",
   "metadata": {},
   "source": [
    "# IMPORTS"
   ]
  },
  {
   "cell_type": "code",
   "execution_count": 58,
   "metadata": {},
   "outputs": [
    {
     "name": "stdout",
     "output_type": "stream",
     "text": [
      "The autoreload extension is already loaded. To reload it, use:\n",
      "  %reload_ext autoreload\n"
     ]
    }
   ],
   "source": [
    "%load_ext autoreload\n",
    "%autoreload 2"
   ]
  },
  {
   "cell_type": "code",
   "execution_count": 59,
   "metadata": {},
   "outputs": [],
   "source": [
    "# data\n",
    "import numpy as np\n",
    "import pandas as pd\n",
    "\n",
    "# graphics\n",
    "import plotly.express as px\n",
    "import matplotlib.pyplot as plt\n",
    "\n",
    "# stats\n",
    "from sktime.split import temporal_train_test_split\n",
    "from sklearn.preprocessing import Normalizer\n",
    "\n",
    "# src\n",
    "from src.utilities import from_pickle, to_pickle\n",
    "from src.data.transformations import split_train_test_ts"
   ]
  },
  {
   "cell_type": "markdown",
   "metadata": {},
   "source": [
    "# PATHS & NAMES"
   ]
  },
  {
   "cell_type": "code",
   "execution_count": 60,
   "metadata": {},
   "outputs": [],
   "source": [
    "RAW_FILENAME = \"dataset.parquet\"\n",
    "RAWFILE_FOLDER = \"../data/raw\"\n",
    "RAW_FILEPATH = f\"{RAWFILE_FOLDER}/{RAW_FILENAME}\"\n",
    "\n",
    "INTERIM_FILENAME = \"transformed.pkl\"\n",
    "INTERIM_FOLDER = \"../data/interim\"\n",
    "INTERIM_FILEPATH = f\"{INTERIM_FOLDER}/{INTERIM_FILENAME}\"\n",
    "\n",
    "DEVSET_FILENAME = \"devset.pkl\"\n",
    "TESTSET_FILENAME = \"testset.pkl\"\n",
    "DEVSET_FILEPATH = f\"{INTERIM_FOLDER}/{DEVSET_FILENAME}\"\n",
    "TESTSET_FILEPATH = f\"{INTERIM_FOLDER}/{TESTSET_FILENAME}\"\n",
    "\n",
    "FITTED_NORMALIZER = \"normalizer.pkl\"\n",
    "MODELS_FOLDER = \"../models\"\n",
    "FITTED_NORMALIZER_FILEPATH = f\"{MODELS_FOLDER}/{FITTED_NORMALIZER}\"\n",
    "\n",
    "REPORT_FOLDER = \"../reports\"\n",
    "\n",
    "TARGET = \"y\"\n",
    "LAG_TARGET = \"x_y_lagged\"\n",
    "\n",
    "FIG_WIDTH = 15\n",
    "FIG_HEIGHT = 3"
   ]
  },
  {
   "cell_type": "markdown",
   "metadata": {},
   "source": [
    "# DATA"
   ]
  },
  {
   "cell_type": "code",
   "execution_count": 61,
   "metadata": {},
   "outputs": [],
   "source": [
    "df = pd.read_parquet(RAW_FILEPATH, engine='pyarrow')"
   ]
  },
  {
   "cell_type": "code",
   "execution_count": 62,
   "metadata": {},
   "outputs": [],
   "source": [
    "# fix indicies\n",
    "df.index.name = None\n",
    "df.columns.name = None\n",
    "\n",
    "# fix date\n",
    "df['date'] = df.index\n",
    "df['date'] = df['date'].dt.tz_localize(None)"
   ]
  },
  {
   "cell_type": "code",
   "execution_count": 63,
   "metadata": {},
   "outputs": [
    {
     "data": {
      "text/html": [
       "<div>\n",
       "<style scoped>\n",
       "    .dataframe tbody tr th:only-of-type {\n",
       "        vertical-align: middle;\n",
       "    }\n",
       "\n",
       "    .dataframe tbody tr th {\n",
       "        vertical-align: top;\n",
       "    }\n",
       "\n",
       "    .dataframe thead th {\n",
       "        text-align: right;\n",
       "    }\n",
       "</style>\n",
       "<table border=\"1\" class=\"dataframe\">\n",
       "  <thead>\n",
       "    <tr style=\"text-align: right;\">\n",
       "      <th></th>\n",
       "      <th>x01</th>\n",
       "      <th>x02</th>\n",
       "      <th>x03</th>\n",
       "      <th>x04</th>\n",
       "      <th>x05</th>\n",
       "      <th>x06</th>\n",
       "      <th>x07</th>\n",
       "      <th>x08</th>\n",
       "      <th>x09</th>\n",
       "      <th>x10</th>\n",
       "      <th>...</th>\n",
       "      <th>x26</th>\n",
       "      <th>x27</th>\n",
       "      <th>x28</th>\n",
       "      <th>x29</th>\n",
       "      <th>x30</th>\n",
       "      <th>x_y_lagged</th>\n",
       "      <th>x_z_lagged</th>\n",
       "      <th>y</th>\n",
       "      <th>z</th>\n",
       "      <th>date</th>\n",
       "    </tr>\n",
       "  </thead>\n",
       "  <tbody>\n",
       "    <tr>\n",
       "      <th>2023-01-16 01:00:00+01:00</th>\n",
       "      <td>4277.0</td>\n",
       "      <td>15501.0</td>\n",
       "      <td>2512.0</td>\n",
       "      <td>0.0</td>\n",
       "      <td>0.0</td>\n",
       "      <td>6197.0</td>\n",
       "      <td>140.0</td>\n",
       "      <td>1617.0</td>\n",
       "      <td>87.885115</td>\n",
       "      <td>60.010055</td>\n",
       "      <td>...</td>\n",
       "      <td>37.11</td>\n",
       "      <td>0.0</td>\n",
       "      <td>50.00</td>\n",
       "      <td>5845.0</td>\n",
       "      <td>15046.0</td>\n",
       "      <td>95.97</td>\n",
       "      <td>25.24</td>\n",
       "      <td>66.99</td>\n",
       "      <td>60.01</td>\n",
       "      <td>2023-01-16 01:00:00</td>\n",
       "    </tr>\n",
       "    <tr>\n",
       "      <th>2023-01-16 02:00:00+01:00</th>\n",
       "      <td>4130.0</td>\n",
       "      <td>15089.0</td>\n",
       "      <td>2422.0</td>\n",
       "      <td>0.0</td>\n",
       "      <td>0.0</td>\n",
       "      <td>5657.0</td>\n",
       "      <td>125.0</td>\n",
       "      <td>1587.0</td>\n",
       "      <td>90.430952</td>\n",
       "      <td>62.721417</td>\n",
       "      <td>...</td>\n",
       "      <td>32.79</td>\n",
       "      <td>0.0</td>\n",
       "      <td>44.71</td>\n",
       "      <td>6259.0</td>\n",
       "      <td>16741.0</td>\n",
       "      <td>95.00</td>\n",
       "      <td>45.86</td>\n",
       "      <td>63.03</td>\n",
       "      <td>60.01</td>\n",
       "      <td>2023-01-16 02:00:00</td>\n",
       "    </tr>\n",
       "    <tr>\n",
       "      <th>2023-01-16 03:00:00+01:00</th>\n",
       "      <td>3999.0</td>\n",
       "      <td>14962.0</td>\n",
       "      <td>2438.0</td>\n",
       "      <td>0.0</td>\n",
       "      <td>0.0</td>\n",
       "      <td>5135.0</td>\n",
       "      <td>110.0</td>\n",
       "      <td>1548.0</td>\n",
       "      <td>89.991216</td>\n",
       "      <td>56.103107</td>\n",
       "      <td>...</td>\n",
       "      <td>40.00</td>\n",
       "      <td>0.0</td>\n",
       "      <td>51.00</td>\n",
       "      <td>6176.0</td>\n",
       "      <td>17814.0</td>\n",
       "      <td>95.00</td>\n",
       "      <td>21.12</td>\n",
       "      <td>66.85</td>\n",
       "      <td>62.72</td>\n",
       "      <td>2023-01-16 03:00:00</td>\n",
       "    </tr>\n",
       "    <tr>\n",
       "      <th>2023-01-16 04:00:00+01:00</th>\n",
       "      <td>3965.0</td>\n",
       "      <td>15026.0</td>\n",
       "      <td>2426.0</td>\n",
       "      <td>0.0</td>\n",
       "      <td>0.0</td>\n",
       "      <td>4735.0</td>\n",
       "      <td>98.0</td>\n",
       "      <td>1552.0</td>\n",
       "      <td>90.925069</td>\n",
       "      <td>63.304305</td>\n",
       "      <td>...</td>\n",
       "      <td>39.69</td>\n",
       "      <td>0.0</td>\n",
       "      <td>56.12</td>\n",
       "      <td>6632.0</td>\n",
       "      <td>19696.0</td>\n",
       "      <td>87.05</td>\n",
       "      <td>5.42</td>\n",
       "      <td>64.96</td>\n",
       "      <td>56.10</td>\n",
       "      <td>2023-01-16 04:00:00</td>\n",
       "    </tr>\n",
       "    <tr>\n",
       "      <th>2023-01-16 05:00:00+01:00</th>\n",
       "      <td>4104.0</td>\n",
       "      <td>15470.0</td>\n",
       "      <td>2519.0</td>\n",
       "      <td>0.0</td>\n",
       "      <td>0.0</td>\n",
       "      <td>4420.0</td>\n",
       "      <td>94.0</td>\n",
       "      <td>1629.0</td>\n",
       "      <td>94.905936</td>\n",
       "      <td>87.005404</td>\n",
       "      <td>...</td>\n",
       "      <td>42.24</td>\n",
       "      <td>0.0</td>\n",
       "      <td>55.47</td>\n",
       "      <td>6753.0</td>\n",
       "      <td>21700.0</td>\n",
       "      <td>93.27</td>\n",
       "      <td>4.18</td>\n",
       "      <td>63.42</td>\n",
       "      <td>63.30</td>\n",
       "      <td>2023-01-16 05:00:00</td>\n",
       "    </tr>\n",
       "  </tbody>\n",
       "</table>\n",
       "<p>5 rows × 35 columns</p>\n",
       "</div>"
      ],
      "text/plain": [
       "                              x01      x02     x03  x04  x05     x06    x07  \\\n",
       "2023-01-16 01:00:00+01:00  4277.0  15501.0  2512.0  0.0  0.0  6197.0  140.0   \n",
       "2023-01-16 02:00:00+01:00  4130.0  15089.0  2422.0  0.0  0.0  5657.0  125.0   \n",
       "2023-01-16 03:00:00+01:00  3999.0  14962.0  2438.0  0.0  0.0  5135.0  110.0   \n",
       "2023-01-16 04:00:00+01:00  3965.0  15026.0  2426.0  0.0  0.0  4735.0   98.0   \n",
       "2023-01-16 05:00:00+01:00  4104.0  15470.0  2519.0  0.0  0.0  4420.0   94.0   \n",
       "\n",
       "                              x08        x09        x10  ...    x26  x27  \\\n",
       "2023-01-16 01:00:00+01:00  1617.0  87.885115  60.010055  ...  37.11  0.0   \n",
       "2023-01-16 02:00:00+01:00  1587.0  90.430952  62.721417  ...  32.79  0.0   \n",
       "2023-01-16 03:00:00+01:00  1548.0  89.991216  56.103107  ...  40.00  0.0   \n",
       "2023-01-16 04:00:00+01:00  1552.0  90.925069  63.304305  ...  39.69  0.0   \n",
       "2023-01-16 05:00:00+01:00  1629.0  94.905936  87.005404  ...  42.24  0.0   \n",
       "\n",
       "                             x28     x29      x30  x_y_lagged  x_z_lagged  \\\n",
       "2023-01-16 01:00:00+01:00  50.00  5845.0  15046.0       95.97       25.24   \n",
       "2023-01-16 02:00:00+01:00  44.71  6259.0  16741.0       95.00       45.86   \n",
       "2023-01-16 03:00:00+01:00  51.00  6176.0  17814.0       95.00       21.12   \n",
       "2023-01-16 04:00:00+01:00  56.12  6632.0  19696.0       87.05        5.42   \n",
       "2023-01-16 05:00:00+01:00  55.47  6753.0  21700.0       93.27        4.18   \n",
       "\n",
       "                               y      z                date  \n",
       "2023-01-16 01:00:00+01:00  66.99  60.01 2023-01-16 01:00:00  \n",
       "2023-01-16 02:00:00+01:00  63.03  60.01 2023-01-16 02:00:00  \n",
       "2023-01-16 03:00:00+01:00  66.85  62.72 2023-01-16 03:00:00  \n",
       "2023-01-16 04:00:00+01:00  64.96  56.10 2023-01-16 04:00:00  \n",
       "2023-01-16 05:00:00+01:00  63.42  63.30 2023-01-16 05:00:00  \n",
       "\n",
       "[5 rows x 35 columns]"
      ]
     },
     "execution_count": 63,
     "metadata": {},
     "output_type": "execute_result"
    }
   ],
   "source": [
    "df.head()"
   ]
  },
  {
   "cell_type": "code",
   "execution_count": 64,
   "metadata": {},
   "outputs": [
    {
     "name": "stdout",
     "output_type": "stream",
     "text": [
      "<class 'pandas.core.frame.DataFrame'>\n",
      "DatetimeIndex: 6048 entries, 2023-01-16 01:00:00+01:00 to 2023-09-25 00:00:00+02:00\n",
      "Data columns (total 35 columns):\n",
      " #   Column      Non-Null Count  Dtype         \n",
      "---  ------      --------------  -----         \n",
      " 0   x01         6047 non-null   float64       \n",
      " 1   x02         6047 non-null   float64       \n",
      " 2   x03         6047 non-null   float64       \n",
      " 3   x04         6047 non-null   float64       \n",
      " 4   x05         6047 non-null   float64       \n",
      " 5   x06         6047 non-null   float64       \n",
      " 6   x07         6047 non-null   float64       \n",
      " 7   x08         6047 non-null   float64       \n",
      " 8   x09         6047 non-null   float64       \n",
      " 9   x10         6047 non-null   float64       \n",
      " 10  x11         6047 non-null   float64       \n",
      " 11  x12         6047 non-null   float64       \n",
      " 12  x13         6047 non-null   float64       \n",
      " 13  x14         6047 non-null   float64       \n",
      " 14  x15         6047 non-null   float64       \n",
      " 15  x16         6047 non-null   float64       \n",
      " 16  x17         6047 non-null   float64       \n",
      " 17  x18         6047 non-null   float64       \n",
      " 18  x19         6047 non-null   float64       \n",
      " 19  x20         6047 non-null   float64       \n",
      " 20  x21         6047 non-null   float64       \n",
      " 21  x22         6047 non-null   float64       \n",
      " 22  x23         6047 non-null   float64       \n",
      " 23  x24         6047 non-null   float64       \n",
      " 24  x25         5950 non-null   float64       \n",
      " 25  x26         5950 non-null   float64       \n",
      " 26  x27         5950 non-null   float64       \n",
      " 27  x28         5950 non-null   float64       \n",
      " 28  x29         6015 non-null   float64       \n",
      " 29  x30         6020 non-null   float64       \n",
      " 30  x_y_lagged  6047 non-null   float64       \n",
      " 31  x_z_lagged  6024 non-null   float64       \n",
      " 32  y           6047 non-null   float64       \n",
      " 33  z           6024 non-null   float64       \n",
      " 34  date        6048 non-null   datetime64[us]\n",
      "dtypes: datetime64[us](1), float64(34)\n",
      "memory usage: 1.7 MB\n"
     ]
    }
   ],
   "source": [
    "df.info()"
   ]
  },
  {
   "cell_type": "markdown",
   "metadata": {},
   "source": [
    "# SPLIT\n",
    "\n",
    "As imputation strategy as well as other postprocessing a future engineering shall not leak to the test data, split has to be done 1st.\n",
    "\n",
    "Because the data represent time series, the split shall take into account time aspect as well."
   ]
  },
  {
   "cell_type": "code",
   "execution_count": 65,
   "metadata": {},
   "outputs": [],
   "source": [
    "devset, testset = split_train_test_ts(df)"
   ]
  },
  {
   "cell_type": "markdown",
   "metadata": {},
   "source": [
    "# TRANSFORM"
   ]
  },
  {
   "cell_type": "markdown",
   "metadata": {},
   "source": [
    "## treat missings\n",
    "\n",
    "use LOCF (Last Observation Carried Forward) as gaps aren't too big."
   ]
  },
  {
   "cell_type": "code",
   "execution_count": 66,
   "metadata": {},
   "outputs": [],
   "source": [
    "nomiss = devset.ffill()\n",
    "nomiss_test = testset.ffill()"
   ]
  },
  {
   "cell_type": "markdown",
   "metadata": {},
   "source": [
    "## normalize"
   ]
  },
  {
   "cell_type": "code",
   "execution_count": 67,
   "metadata": {},
   "outputs": [],
   "source": [
    "cols_to_norm = [col for col in nomiss.columns if col.startswith(\"x\")]"
   ]
  },
  {
   "cell_type": "code",
   "execution_count": 68,
   "metadata": {},
   "outputs": [
    {
     "data": {
      "text/plain": [
       "True"
      ]
     },
     "execution_count": 68,
     "metadata": {},
     "output_type": "execute_result"
    }
   ],
   "source": [
    "fitted_normalizer = Normalizer().fit(nomiss.loc[:,cols_to_norm])\n",
    "to_pickle(fitted_normalizer, FITTED_NORMALIZER_FILEPATH)"
   ]
  },
  {
   "cell_type": "code",
   "execution_count": 69,
   "metadata": {},
   "outputs": [
    {
     "data": {
      "text/plain": [
       "True"
      ]
     },
     "execution_count": 69,
     "metadata": {},
     "output_type": "execute_result"
    }
   ],
   "source": [
    "normed = nomiss\n",
    "normed.loc[:,cols_to_norm] = fitted_normalizer.transform(nomiss.loc[:,cols_to_norm])\n",
    "to_pickle(normed, DEVSET_FILEPATH)"
   ]
  },
  {
   "cell_type": "code",
   "execution_count": 70,
   "metadata": {},
   "outputs": [
    {
     "data": {
      "text/plain": [
       "True"
      ]
     },
     "execution_count": 70,
     "metadata": {},
     "output_type": "execute_result"
    }
   ],
   "source": [
    "normed_test = nomiss_test\n",
    "normed_test.loc[:,cols_to_norm] = fitted_normalizer.transform(nomiss_test.loc[:,cols_to_norm])\n",
    "to_pickle(normed_test, TESTSET_FILEPATH)"
   ]
  },
  {
   "cell_type": "markdown",
   "metadata": {},
   "source": []
  }
 ],
 "metadata": {
  "kernelspec": {
   "display_name": ".venv",
   "language": "python",
   "name": "python3"
  },
  "language_info": {
   "codemirror_mode": {
    "name": "ipython",
    "version": 3
   },
   "file_extension": ".py",
   "mimetype": "text/x-python",
   "name": "python",
   "nbconvert_exporter": "python",
   "pygments_lexer": "ipython3",
   "version": "3.10.9"
  }
 },
 "nbformat": 4,
 "nbformat_minor": 2
}
